{
 "cells": [
  {
   "cell_type": "code",
   "execution_count": 1,
   "metadata": {},
   "outputs": [],
   "source": [
    "import pandas as pd \n",
    "import numpy as np \n",
    "import matplotlib.pyplot as plt\n",
    "import seaborn as sns "
   ]
  },
  {
   "cell_type": "code",
   "execution_count": 2,
   "metadata": {},
   "outputs": [],
   "source": [
    "data_set = pd.read_csv(r\"D:\\data sciense\\car_price.csv\",encoding=\"latin1\")"
   ]
  },
  {
   "cell_type": "code",
   "execution_count": 3,
   "metadata": {},
   "outputs": [
    {
     "data": {
      "text/html": [
       "<div>\n",
       "<style scoped>\n",
       "    .dataframe tbody tr th:only-of-type {\n",
       "        vertical-align: middle;\n",
       "    }\n",
       "\n",
       "    .dataframe tbody tr th {\n",
       "        vertical-align: top;\n",
       "    }\n",
       "\n",
       "    .dataframe thead th {\n",
       "        text-align: right;\n",
       "    }\n",
       "</style>\n",
       "<table border=\"1\" class=\"dataframe\">\n",
       "  <thead>\n",
       "    <tr style=\"text-align: right;\">\n",
       "      <th></th>\n",
       "      <th>Unnamed: 0</th>\n",
       "      <th>car_name</th>\n",
       "      <th>car_prices_in_rupee</th>\n",
       "      <th>kms_driven</th>\n",
       "      <th>fuel_type</th>\n",
       "      <th>transmission</th>\n",
       "      <th>ownership</th>\n",
       "      <th>manufacture</th>\n",
       "      <th>engine</th>\n",
       "      <th>Seats</th>\n",
       "    </tr>\n",
       "  </thead>\n",
       "  <tbody>\n",
       "    <tr>\n",
       "      <th>0</th>\n",
       "      <td>0</td>\n",
       "      <td>Jeep Compass 2.0 Longitude Option BSIV</td>\n",
       "      <td>10.03 Lakh</td>\n",
       "      <td>86,226 kms</td>\n",
       "      <td>Diesel</td>\n",
       "      <td>Manual</td>\n",
       "      <td>1st Owner</td>\n",
       "      <td>2017</td>\n",
       "      <td>1956 cc</td>\n",
       "      <td>5 Seats</td>\n",
       "    </tr>\n",
       "    <tr>\n",
       "      <th>1</th>\n",
       "      <td>1</td>\n",
       "      <td>Renault Duster RXZ Turbo CVT</td>\n",
       "      <td>12.83 Lakh</td>\n",
       "      <td>13,248 kms</td>\n",
       "      <td>Petrol</td>\n",
       "      <td>Automatic</td>\n",
       "      <td>1st Owner</td>\n",
       "      <td>2021</td>\n",
       "      <td>1330 cc</td>\n",
       "      <td>5 Seats</td>\n",
       "    </tr>\n",
       "  </tbody>\n",
       "</table>\n",
       "</div>"
      ],
      "text/plain": [
       "   Unnamed: 0                                car_name car_prices_in_rupee  \\\n",
       "0           0  Jeep Compass 2.0 Longitude Option BSIV          10.03 Lakh   \n",
       "1           1            Renault Duster RXZ Turbo CVT          12.83 Lakh   \n",
       "\n",
       "   kms_driven fuel_type transmission  ownership  manufacture   engine    Seats  \n",
       "0  86,226 kms    Diesel       Manual  1st Owner         2017  1956 cc  5 Seats  \n",
       "1  13,248 kms    Petrol    Automatic  1st Owner         2021  1330 cc  5 Seats  "
      ]
     },
     "execution_count": 3,
     "metadata": {},
     "output_type": "execute_result"
    }
   ],
   "source": [
    "data_set.head(2)"
   ]
  },
  {
   "cell_type": "code",
   "execution_count": 4,
   "metadata": {},
   "outputs": [
    {
     "data": {
      "text/plain": [
       "(5512, 10)"
      ]
     },
     "execution_count": 4,
     "metadata": {},
     "output_type": "execute_result"
    }
   ],
   "source": [
    "data_set.shape"
   ]
  },
  {
   "cell_type": "code",
   "execution_count": 5,
   "metadata": {},
   "outputs": [
    {
     "name": "stdout",
     "output_type": "stream",
     "text": [
      "<class 'pandas.core.frame.DataFrame'>\n",
      "RangeIndex: 5512 entries, 0 to 5511\n",
      "Data columns (total 10 columns):\n",
      " #   Column               Non-Null Count  Dtype \n",
      "---  ------               --------------  ----- \n",
      " 0   Unnamed: 0           5512 non-null   int64 \n",
      " 1   car_name             5512 non-null   object\n",
      " 2   car_prices_in_rupee  5512 non-null   object\n",
      " 3   kms_driven           5512 non-null   object\n",
      " 4   fuel_type            5512 non-null   object\n",
      " 5   transmission         5512 non-null   object\n",
      " 6   ownership            5512 non-null   object\n",
      " 7   manufacture          5512 non-null   int64 \n",
      " 8   engine               5512 non-null   object\n",
      " 9   Seats                5512 non-null   object\n",
      "dtypes: int64(2), object(8)\n",
      "memory usage: 430.8+ KB\n"
     ]
    }
   ],
   "source": [
    "data_set.info()"
   ]
  },
  {
   "cell_type": "code",
   "execution_count": 6,
   "metadata": {},
   "outputs": [
    {
     "data": {
      "text/plain": [
       "Unnamed: 0             0\n",
       "car_name               0\n",
       "car_prices_in_rupee    0\n",
       "kms_driven             0\n",
       "fuel_type              0\n",
       "transmission           0\n",
       "ownership              0\n",
       "manufacture            0\n",
       "engine                 0\n",
       "Seats                  0\n",
       "dtype: int64"
      ]
     },
     "execution_count": 6,
     "metadata": {},
     "output_type": "execute_result"
    }
   ],
   "source": [
    "data_set.isnull().sum()"
   ]
  },
  {
   "cell_type": "code",
   "execution_count": 7,
   "metadata": {},
   "outputs": [],
   "source": [
    "def company_name(x):\n",
    "    return x[:x.index(\" \")]"
   ]
  },
  {
   "cell_type": "code",
   "execution_count": 8,
   "metadata": {},
   "outputs": [],
   "source": [
    "data_set[\"company_name\"] = data_set[\"car_name\"].apply(company_name)"
   ]
  },
  {
   "cell_type": "code",
   "execution_count": 9,
   "metadata": {},
   "outputs": [],
   "source": [
    "def car_name(x):\n",
    "    return x[x.index(\" \")+1:]"
   ]
  },
  {
   "cell_type": "code",
   "execution_count": 10,
   "metadata": {},
   "outputs": [],
   "source": [
    "data_set[\"car_name\"] = data_set[\"car_name\"].apply(car_name)"
   ]
  },
  {
   "cell_type": "code",
   "execution_count": 11,
   "metadata": {},
   "outputs": [
    {
     "data": {
      "text/html": [
       "<div>\n",
       "<style scoped>\n",
       "    .dataframe tbody tr th:only-of-type {\n",
       "        vertical-align: middle;\n",
       "    }\n",
       "\n",
       "    .dataframe tbody tr th {\n",
       "        vertical-align: top;\n",
       "    }\n",
       "\n",
       "    .dataframe thead th {\n",
       "        text-align: right;\n",
       "    }\n",
       "</style>\n",
       "<table border=\"1\" class=\"dataframe\">\n",
       "  <thead>\n",
       "    <tr style=\"text-align: right;\">\n",
       "      <th></th>\n",
       "      <th>Unnamed: 0</th>\n",
       "      <th>car_name</th>\n",
       "      <th>car_prices_in_rupee</th>\n",
       "      <th>kms_driven</th>\n",
       "      <th>fuel_type</th>\n",
       "      <th>transmission</th>\n",
       "      <th>ownership</th>\n",
       "      <th>manufacture</th>\n",
       "      <th>engine</th>\n",
       "      <th>Seats</th>\n",
       "      <th>company_name</th>\n",
       "    </tr>\n",
       "  </thead>\n",
       "  <tbody>\n",
       "    <tr>\n",
       "      <th>0</th>\n",
       "      <td>0</td>\n",
       "      <td>Compass 2.0 Longitude Option BSIV</td>\n",
       "      <td>10.03 Lakh</td>\n",
       "      <td>86,226 kms</td>\n",
       "      <td>Diesel</td>\n",
       "      <td>Manual</td>\n",
       "      <td>1st Owner</td>\n",
       "      <td>2017</td>\n",
       "      <td>1956 cc</td>\n",
       "      <td>5 Seats</td>\n",
       "      <td>Jeep</td>\n",
       "    </tr>\n",
       "    <tr>\n",
       "      <th>1</th>\n",
       "      <td>1</td>\n",
       "      <td>Duster RXZ Turbo CVT</td>\n",
       "      <td>12.83 Lakh</td>\n",
       "      <td>13,248 kms</td>\n",
       "      <td>Petrol</td>\n",
       "      <td>Automatic</td>\n",
       "      <td>1st Owner</td>\n",
       "      <td>2021</td>\n",
       "      <td>1330 cc</td>\n",
       "      <td>5 Seats</td>\n",
       "      <td>Renault</td>\n",
       "    </tr>\n",
       "  </tbody>\n",
       "</table>\n",
       "</div>"
      ],
      "text/plain": [
       "   Unnamed: 0                           car_name car_prices_in_rupee  \\\n",
       "0           0  Compass 2.0 Longitude Option BSIV          10.03 Lakh   \n",
       "1           1               Duster RXZ Turbo CVT          12.83 Lakh   \n",
       "\n",
       "   kms_driven fuel_type transmission  ownership  manufacture   engine  \\\n",
       "0  86,226 kms    Diesel       Manual  1st Owner         2017  1956 cc   \n",
       "1  13,248 kms    Petrol    Automatic  1st Owner         2021  1330 cc   \n",
       "\n",
       "     Seats company_name  \n",
       "0  5 Seats         Jeep  \n",
       "1  5 Seats      Renault  "
      ]
     },
     "execution_count": 11,
     "metadata": {},
     "output_type": "execute_result"
    }
   ],
   "source": [
    "data_set.head(2)"
   ]
  },
  {
   "cell_type": "code",
   "execution_count": 12,
   "metadata": {},
   "outputs": [],
   "source": [
    "data_set[\"car_prices_in_rupee\"] = data_set[\"car_prices_in_rupee\"].str.replace(\",\", \" \")"
   ]
  },
  {
   "cell_type": "code",
   "execution_count": 13,
   "metadata": {},
   "outputs": [
    {
     "data": {
      "text/plain": [
       "0       10.03 Lakh\n",
       "1       12.83 Lakh\n",
       "2       16.40 Lakh\n",
       "3        7.77 Lakh\n",
       "4        5.15 Lakh\n",
       "           ...    \n",
       "5507    28.90 Lakh\n",
       "5508    64.90 Lakh\n",
       "5509    13.75 Lakh\n",
       "5510    29.90 Lakh\n",
       "5511    31.90 Lakh\n",
       "Name: car_prices_in_rupee, Length: 5512, dtype: object"
      ]
     },
     "execution_count": 13,
     "metadata": {},
     "output_type": "execute_result"
    }
   ],
   "source": [
    "data_set[\"car_prices_in_rupee\"]"
   ]
  },
  {
   "cell_type": "code",
   "execution_count": 14,
   "metadata": {},
   "outputs": [],
   "source": [
    "def rups_change(x):\n",
    "    p = x.split(\" \")\n",
    "    try:\n",
    "        if p[1] == \"Lakh\":\n",
    "            return str(round(float(p[0])*100000,1))\n",
    "        elif p[1] == \"Crore\":\n",
    "            return str(round(float(p[0])*10000000,1))\n",
    "    except: return x\n",
    "\n"
   ]
  },
  {
   "cell_type": "code",
   "execution_count": 15,
   "metadata": {},
   "outputs": [],
   "source": [
    "data_set[\"car_prices_in_rupee\"] = data_set[\"car_prices_in_rupee\"].apply(rups_change)\n",
    "data_set[\"car_prices_in_rupee\"] = data_set[\"car_prices_in_rupee\"].astype(\"float64\")"
   ]
  },
  {
   "cell_type": "code",
   "execution_count": 16,
   "metadata": {},
   "outputs": [
    {
     "name": "stdout",
     "output_type": "stream",
     "text": [
      "<class 'pandas.core.frame.DataFrame'>\n",
      "RangeIndex: 5512 entries, 0 to 5511\n",
      "Data columns (total 11 columns):\n",
      " #   Column               Non-Null Count  Dtype  \n",
      "---  ------               --------------  -----  \n",
      " 0   Unnamed: 0           5512 non-null   int64  \n",
      " 1   car_name             5512 non-null   object \n",
      " 2   car_prices_in_rupee  5389 non-null   float64\n",
      " 3   kms_driven           5512 non-null   object \n",
      " 4   fuel_type            5512 non-null   object \n",
      " 5   transmission         5512 non-null   object \n",
      " 6   ownership            5512 non-null   object \n",
      " 7   manufacture          5512 non-null   int64  \n",
      " 8   engine               5512 non-null   object \n",
      " 9   Seats                5512 non-null   object \n",
      " 10  company_name         5512 non-null   object \n",
      "dtypes: float64(1), int64(2), object(8)\n",
      "memory usage: 473.8+ KB\n"
     ]
    }
   ],
   "source": [
    "data_set.info()"
   ]
  },
  {
   "cell_type": "code",
   "execution_count": 17,
   "metadata": {},
   "outputs": [],
   "source": [
    "data_set[\"kms_driven\"] = data_set[\"kms_driven\"].str.replace(\",\",\"\")\n",
    "data_set[\"kms_driven\"] = data_set[\"kms_driven\"].str.replace(\"kms\",\"\")\n",
    "data_set[\"kms_driven\"] = data_set[\"kms_driven\"].astype(\"float64\")"
   ]
  },
  {
   "cell_type": "code",
   "execution_count": 18,
   "metadata": {},
   "outputs": [
    {
     "data": {
      "text/plain": [
       "0       86226.0\n",
       "1       13248.0\n",
       "2       60343.0\n",
       "3       26696.0\n",
       "4       69414.0\n",
       "         ...   \n",
       "5507    45000.0\n",
       "5508    29000.0\n",
       "5509    90000.0\n",
       "5510    79000.0\n",
       "5511    42000.0\n",
       "Name: kms_driven, Length: 5512, dtype: float64"
      ]
     },
     "execution_count": 18,
     "metadata": {},
     "output_type": "execute_result"
    }
   ],
   "source": [
    "data_set[\"kms_driven\"]"
   ]
  },
  {
   "cell_type": "code",
   "execution_count": 19,
   "metadata": {},
   "outputs": [
    {
     "name": "stdout",
     "output_type": "stream",
     "text": [
      "<class 'pandas.core.frame.DataFrame'>\n",
      "RangeIndex: 5512 entries, 0 to 5511\n",
      "Data columns (total 11 columns):\n",
      " #   Column               Non-Null Count  Dtype  \n",
      "---  ------               --------------  -----  \n",
      " 0   Unnamed: 0           5512 non-null   int64  \n",
      " 1   car_name             5512 non-null   object \n",
      " 2   car_prices_in_rupee  5389 non-null   float64\n",
      " 3   kms_driven           5512 non-null   float64\n",
      " 4   fuel_type            5512 non-null   object \n",
      " 5   transmission         5512 non-null   object \n",
      " 6   ownership            5512 non-null   object \n",
      " 7   manufacture          5512 non-null   int64  \n",
      " 8   engine               5512 non-null   object \n",
      " 9   Seats                5512 non-null   object \n",
      " 10  company_name         5512 non-null   object \n",
      "dtypes: float64(2), int64(2), object(7)\n",
      "memory usage: 473.8+ KB\n"
     ]
    }
   ],
   "source": [
    "data_set.info()"
   ]
  },
  {
   "cell_type": "code",
   "execution_count": 20,
   "metadata": {},
   "outputs": [],
   "source": [
    "data_set[\"engine\"] = data_set[\"engine\"].str.replace(\"cc\",\"\")\n",
    "data_set[\"engine\"] = data_set[\"engine\"].astype(\"float64\")"
   ]
  },
  {
   "cell_type": "code",
   "execution_count": 21,
   "metadata": {},
   "outputs": [],
   "source": [
    "data_set[\"Seats\"] = data_set[\"Seats\"].str.replace(\"Seats\",\"\")\n",
    "data_set[\"Seats\"] = data_set[\"Seats\"].astype(\"float64\")"
   ]
  },
  {
   "cell_type": "code",
   "execution_count": 22,
   "metadata": {},
   "outputs": [
    {
     "data": {
      "text/html": [
       "<div>\n",
       "<style scoped>\n",
       "    .dataframe tbody tr th:only-of-type {\n",
       "        vertical-align: middle;\n",
       "    }\n",
       "\n",
       "    .dataframe tbody tr th {\n",
       "        vertical-align: top;\n",
       "    }\n",
       "\n",
       "    .dataframe thead th {\n",
       "        text-align: right;\n",
       "    }\n",
       "</style>\n",
       "<table border=\"1\" class=\"dataframe\">\n",
       "  <thead>\n",
       "    <tr style=\"text-align: right;\">\n",
       "      <th></th>\n",
       "      <th>Unnamed: 0</th>\n",
       "      <th>car_name</th>\n",
       "      <th>car_prices_in_rupee</th>\n",
       "      <th>kms_driven</th>\n",
       "      <th>fuel_type</th>\n",
       "      <th>transmission</th>\n",
       "      <th>ownership</th>\n",
       "      <th>manufacture</th>\n",
       "      <th>engine</th>\n",
       "      <th>Seats</th>\n",
       "      <th>company_name</th>\n",
       "    </tr>\n",
       "  </thead>\n",
       "  <tbody>\n",
       "    <tr>\n",
       "      <th>0</th>\n",
       "      <td>0</td>\n",
       "      <td>Compass 2.0 Longitude Option BSIV</td>\n",
       "      <td>1003000.0</td>\n",
       "      <td>86226.0</td>\n",
       "      <td>Diesel</td>\n",
       "      <td>Manual</td>\n",
       "      <td>1st Owner</td>\n",
       "      <td>2017</td>\n",
       "      <td>1956.0</td>\n",
       "      <td>5.0</td>\n",
       "      <td>Jeep</td>\n",
       "    </tr>\n",
       "    <tr>\n",
       "      <th>1</th>\n",
       "      <td>1</td>\n",
       "      <td>Duster RXZ Turbo CVT</td>\n",
       "      <td>1283000.0</td>\n",
       "      <td>13248.0</td>\n",
       "      <td>Petrol</td>\n",
       "      <td>Automatic</td>\n",
       "      <td>1st Owner</td>\n",
       "      <td>2021</td>\n",
       "      <td>1330.0</td>\n",
       "      <td>5.0</td>\n",
       "      <td>Renault</td>\n",
       "    </tr>\n",
       "    <tr>\n",
       "      <th>2</th>\n",
       "      <td>2</td>\n",
       "      <td>Camry 2.5 G</td>\n",
       "      <td>1640000.0</td>\n",
       "      <td>60343.0</td>\n",
       "      <td>Petrol</td>\n",
       "      <td>Automatic</td>\n",
       "      <td>1st Owner</td>\n",
       "      <td>2016</td>\n",
       "      <td>2494.0</td>\n",
       "      <td>5.0</td>\n",
       "      <td>Toyota</td>\n",
       "    </tr>\n",
       "    <tr>\n",
       "      <th>3</th>\n",
       "      <td>3</td>\n",
       "      <td>Jazz VX CVT</td>\n",
       "      <td>777000.0</td>\n",
       "      <td>26696.0</td>\n",
       "      <td>Petrol</td>\n",
       "      <td>Automatic</td>\n",
       "      <td>1st Owner</td>\n",
       "      <td>2018</td>\n",
       "      <td>1199.0</td>\n",
       "      <td>5.0</td>\n",
       "      <td>Honda</td>\n",
       "    </tr>\n",
       "    <tr>\n",
       "      <th>4</th>\n",
       "      <td>4</td>\n",
       "      <td>Polo 1.2 MPI Highline</td>\n",
       "      <td>515000.0</td>\n",
       "      <td>69414.0</td>\n",
       "      <td>Petrol</td>\n",
       "      <td>Manual</td>\n",
       "      <td>1st Owner</td>\n",
       "      <td>2016</td>\n",
       "      <td>1199.0</td>\n",
       "      <td>5.0</td>\n",
       "      <td>Volkswagen</td>\n",
       "    </tr>\n",
       "  </tbody>\n",
       "</table>\n",
       "</div>"
      ],
      "text/plain": [
       "   Unnamed: 0                           car_name  car_prices_in_rupee  \\\n",
       "0           0  Compass 2.0 Longitude Option BSIV            1003000.0   \n",
       "1           1               Duster RXZ Turbo CVT            1283000.0   \n",
       "2           2                        Camry 2.5 G            1640000.0   \n",
       "3           3                        Jazz VX CVT             777000.0   \n",
       "4           4              Polo 1.2 MPI Highline             515000.0   \n",
       "\n",
       "   kms_driven fuel_type transmission  ownership  manufacture  engine  Seats  \\\n",
       "0     86226.0    Diesel       Manual  1st Owner         2017  1956.0    5.0   \n",
       "1     13248.0    Petrol    Automatic  1st Owner         2021  1330.0    5.0   \n",
       "2     60343.0    Petrol    Automatic  1st Owner         2016  2494.0    5.0   \n",
       "3     26696.0    Petrol    Automatic  1st Owner         2018  1199.0    5.0   \n",
       "4     69414.0    Petrol       Manual  1st Owner         2016  1199.0    5.0   \n",
       "\n",
       "  company_name  \n",
       "0         Jeep  \n",
       "1      Renault  \n",
       "2       Toyota  \n",
       "3        Honda  \n",
       "4   Volkswagen  "
      ]
     },
     "execution_count": 22,
     "metadata": {},
     "output_type": "execute_result"
    }
   ],
   "source": [
    "data_set.head()"
   ]
  },
  {
   "cell_type": "code",
   "execution_count": 23,
   "metadata": {},
   "outputs": [],
   "source": [
    "data_set[\"manufacture\"] = pd.to_datetime(data_set[\"manufacture\"])"
   ]
  },
  {
   "cell_type": "code",
   "execution_count": 24,
   "metadata": {},
   "outputs": [
    {
     "data": {
      "text/html": [
       "<div>\n",
       "<style scoped>\n",
       "    .dataframe tbody tr th:only-of-type {\n",
       "        vertical-align: middle;\n",
       "    }\n",
       "\n",
       "    .dataframe tbody tr th {\n",
       "        vertical-align: top;\n",
       "    }\n",
       "\n",
       "    .dataframe thead th {\n",
       "        text-align: right;\n",
       "    }\n",
       "</style>\n",
       "<table border=\"1\" class=\"dataframe\">\n",
       "  <thead>\n",
       "    <tr style=\"text-align: right;\">\n",
       "      <th></th>\n",
       "      <th>Unnamed: 0</th>\n",
       "      <th>car_name</th>\n",
       "      <th>car_prices_in_rupee</th>\n",
       "      <th>kms_driven</th>\n",
       "      <th>fuel_type</th>\n",
       "      <th>transmission</th>\n",
       "      <th>ownership</th>\n",
       "      <th>manufacture</th>\n",
       "      <th>engine</th>\n",
       "      <th>Seats</th>\n",
       "      <th>company_name</th>\n",
       "    </tr>\n",
       "  </thead>\n",
       "  <tbody>\n",
       "    <tr>\n",
       "      <th>0</th>\n",
       "      <td>0</td>\n",
       "      <td>Compass 2.0 Longitude Option BSIV</td>\n",
       "      <td>1003000.0</td>\n",
       "      <td>86226.0</td>\n",
       "      <td>Diesel</td>\n",
       "      <td>Manual</td>\n",
       "      <td>1st Owner</td>\n",
       "      <td>1970-01-01 00:00:00.000002017</td>\n",
       "      <td>1956.0</td>\n",
       "      <td>5.0</td>\n",
       "      <td>Jeep</td>\n",
       "    </tr>\n",
       "    <tr>\n",
       "      <th>1</th>\n",
       "      <td>1</td>\n",
       "      <td>Duster RXZ Turbo CVT</td>\n",
       "      <td>1283000.0</td>\n",
       "      <td>13248.0</td>\n",
       "      <td>Petrol</td>\n",
       "      <td>Automatic</td>\n",
       "      <td>1st Owner</td>\n",
       "      <td>1970-01-01 00:00:00.000002021</td>\n",
       "      <td>1330.0</td>\n",
       "      <td>5.0</td>\n",
       "      <td>Renault</td>\n",
       "    </tr>\n",
       "    <tr>\n",
       "      <th>2</th>\n",
       "      <td>2</td>\n",
       "      <td>Camry 2.5 G</td>\n",
       "      <td>1640000.0</td>\n",
       "      <td>60343.0</td>\n",
       "      <td>Petrol</td>\n",
       "      <td>Automatic</td>\n",
       "      <td>1st Owner</td>\n",
       "      <td>1970-01-01 00:00:00.000002016</td>\n",
       "      <td>2494.0</td>\n",
       "      <td>5.0</td>\n",
       "      <td>Toyota</td>\n",
       "    </tr>\n",
       "    <tr>\n",
       "      <th>3</th>\n",
       "      <td>3</td>\n",
       "      <td>Jazz VX CVT</td>\n",
       "      <td>777000.0</td>\n",
       "      <td>26696.0</td>\n",
       "      <td>Petrol</td>\n",
       "      <td>Automatic</td>\n",
       "      <td>1st Owner</td>\n",
       "      <td>1970-01-01 00:00:00.000002018</td>\n",
       "      <td>1199.0</td>\n",
       "      <td>5.0</td>\n",
       "      <td>Honda</td>\n",
       "    </tr>\n",
       "    <tr>\n",
       "      <th>4</th>\n",
       "      <td>4</td>\n",
       "      <td>Polo 1.2 MPI Highline</td>\n",
       "      <td>515000.0</td>\n",
       "      <td>69414.0</td>\n",
       "      <td>Petrol</td>\n",
       "      <td>Manual</td>\n",
       "      <td>1st Owner</td>\n",
       "      <td>1970-01-01 00:00:00.000002016</td>\n",
       "      <td>1199.0</td>\n",
       "      <td>5.0</td>\n",
       "      <td>Volkswagen</td>\n",
       "    </tr>\n",
       "  </tbody>\n",
       "</table>\n",
       "</div>"
      ],
      "text/plain": [
       "   Unnamed: 0                           car_name  car_prices_in_rupee  \\\n",
       "0           0  Compass 2.0 Longitude Option BSIV            1003000.0   \n",
       "1           1               Duster RXZ Turbo CVT            1283000.0   \n",
       "2           2                        Camry 2.5 G            1640000.0   \n",
       "3           3                        Jazz VX CVT             777000.0   \n",
       "4           4              Polo 1.2 MPI Highline             515000.0   \n",
       "\n",
       "   kms_driven fuel_type transmission  ownership                   manufacture  \\\n",
       "0     86226.0    Diesel       Manual  1st Owner 1970-01-01 00:00:00.000002017   \n",
       "1     13248.0    Petrol    Automatic  1st Owner 1970-01-01 00:00:00.000002021   \n",
       "2     60343.0    Petrol    Automatic  1st Owner 1970-01-01 00:00:00.000002016   \n",
       "3     26696.0    Petrol    Automatic  1st Owner 1970-01-01 00:00:00.000002018   \n",
       "4     69414.0    Petrol       Manual  1st Owner 1970-01-01 00:00:00.000002016   \n",
       "\n",
       "   engine  Seats company_name  \n",
       "0  1956.0    5.0         Jeep  \n",
       "1  1330.0    5.0      Renault  \n",
       "2  2494.0    5.0       Toyota  \n",
       "3  1199.0    5.0        Honda  \n",
       "4  1199.0    5.0   Volkswagen  "
      ]
     },
     "execution_count": 24,
     "metadata": {},
     "output_type": "execute_result"
    }
   ],
   "source": [
    "data_set.head()"
   ]
  },
  {
   "cell_type": "markdown",
   "metadata": {},
   "source": [
    "This Data ready for The Data Analysis"
   ]
  }
 ],
 "metadata": {
  "kernelspec": {
   "display_name": "Python 3",
   "language": "python",
   "name": "python3"
  },
  "language_info": {
   "codemirror_mode": {
    "name": "ipython",
    "version": 3
   },
   "file_extension": ".py",
   "mimetype": "text/x-python",
   "name": "python",
   "nbconvert_exporter": "python",
   "pygments_lexer": "ipython3",
   "version": "3.12.3"
  }
 },
 "nbformat": 4,
 "nbformat_minor": 2
}
